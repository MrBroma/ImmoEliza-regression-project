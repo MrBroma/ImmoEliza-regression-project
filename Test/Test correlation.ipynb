{
 "cells": [
  {
   "cell_type": "code",
   "execution_count": null,
   "id": "c6b79214-ba7f-465d-a6b2-82bad0cd28a3",
   "metadata": {},
   "outputs": [],
   "source": [
    "# Calculer les corrélations pour les variables numériques\n",
    "corr_matrix = data_sales.corr()\n",
    "\n",
    "# Visualiser la matrice de corrélation\n",
    "plt.figure(figsize=(12, 10))\n",
    "sns.heatmap(corr_matrix, annot=True, cmap='coolwarm', vmin=-1, vmax=1)\n",
    "plt.title('Correlation Matrix for Numerical Variables')\n",
    "plt.show()"
   ]
  },
  {
   "cell_type": "code",
   "execution_count": null,
   "id": "b9b6d991-0d8a-4b50-bd45-21c079026d85",
   "metadata": {},
   "outputs": [],
   "source": [
    "# Analyser les corrélations entre les variables catégorielles et la variable cible\n",
    "def cramers_v(x, y):\n",
    "    confusion_matrix = pd.crosstab(x, y)\n",
    "    chi2 = chi2_contingency(confusion_matrix)[0]\n",
    "    n = confusion_matrix.sum().sum()\n",
    "    phi2 = chi2 / n\n",
    "    r, k = confusion_matrix.shape\n",
    "    return np.sqrt(phi2 / min((k - 1), (r - 1)))\n",
    "\n",
    "categorical_cols = ['StateOfBuilding', 'FloodingZone', 'District', 'Province', 'Region', 'SubtypeOfProperty']\n",
    "target_col = 'Price'\n",
    "\n",
    "for col in categorical_cols:\n",
    "    cramers_v_score = cramers_v(data_sales[col], data_sales[target_col])\n",
    "    print(f\"Cramer's V between {col} and {target_col}: {cramers_v_score}\")"
   ]
  },
  {
   "cell_type": "code",
   "execution_count": null,
   "id": "ae47ade8-c32c-4118-a8b9-80e33188cbe6",
   "metadata": {},
   "outputs": [],
   "source": [
    "# Interprétation des résultats\n",
    "print(\"Interprétation des résultats :\")\n",
    "print(\"Les variables avec une corrélation proche de 1 ou -1 avec la cible ou entre elles peuvent être candidates pour être supprimées.\")\n",
    "print(\"Les variables catégorielles avec un faible score de Cramer's V par rapport à la cible peuvent également être candidates pour être supprimées.\")\n"
   ]
  },
  {
   "cell_type": "code",
   "execution_count": null,
   "id": "2ecb019f-c58a-456f-b7a2-4e8c70031b36",
   "metadata": {},
   "outputs": [],
   "source": [
    "# Exemple de suppression de variables redondantes\n",
    "threshold = 0.8\n",
    "high_corr_var = [col for col in corr_matrix.columns if any(abs(corr_matrix[col]) > threshold) and col != 'Price']\n",
    "data_sales_reduced = data_sales.drop(columns=high_corr_var)"
   ]
  },
  {
   "cell_type": "code",
   "execution_count": null,
   "id": "4648858e-2bca-4fae-90b4-c1ec9226e121",
   "metadata": {},
   "outputs": [],
   "source": [
    "print(f\"Variables supprimées en raison de haute corrélation: {high_corr_var}\")\n",
    "print(f\"Nouveau DataFrame avec variables réduites: \\n{data_sales_reduced.head()}\")"
   ]
  },
  {
   "cell_type": "code",
   "execution_count": null,
   "id": "fcb4a954-73c5-47c1-8d14-92bbac3514dc",
   "metadata": {},
   "outputs": [],
   "source": []
  }
 ],
 "metadata": {
  "kernelspec": {
   "display_name": "Python (ml_env)",
   "language": "python",
   "name": "ml_env"
  },
  "language_info": {
   "codemirror_mode": {
    "name": "ipython",
    "version": 3
   },
   "file_extension": ".py",
   "mimetype": "text/x-python",
   "name": "python",
   "nbconvert_exporter": "python",
   "pygments_lexer": "ipython3",
   "version": "3.10.14"
  }
 },
 "nbformat": 4,
 "nbformat_minor": 5
}
