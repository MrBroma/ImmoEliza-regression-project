{
 "cells": [
  {
   "cell_type": "code",
   "execution_count": null,
   "id": "bdd8b197-64cc-46e3-8bc5-bded27d34708",
   "metadata": {},
   "outputs": [],
   "source": [
    "import pandas as pd\n",
    "import numpy as np\n",
    "import matplotlib.pyplot as plt\n",
    "import seaborn as sns\n",
    "pd.options.display.max_columns = 35             #just extending the number  of columns that can be seen\n",
    "pd.options.display.max_colwidth = 120  \n",
    "# pd.options.mode.chained_assignment = None"
   ]
  },
  {
   "cell_type": "code",
   "execution_count": null,
   "id": "7ec9192a-5fb6-4d79-a8e7-b85221ca6ba7",
   "metadata": {},
   "outputs": [],
   "source": [
    "# load json as a dataframe with pandas\n",
    "data = pd.read_json(\"data/final_dataset.json\")"
   ]
  },
  {
   "cell_type": "code",
   "execution_count": null,
   "id": "dfc6b15e-3909-402c-9c32-29fefc41f34d",
   "metadata": {},
   "outputs": [],
   "source": [
    "data.info()"
   ]
  },
  {
   "cell_type": "code",
   "execution_count": null,
   "id": "13687b95-e91a-4c79-873c-96aca46aed21",
   "metadata": {},
   "outputs": [],
   "source": [
    "data.drop_duplicates(\"PropertyId\",inplace=True)\n",
    "data.drop_duplicates(\"Url\",inplace=True)"
   ]
  },
  {
   "cell_type": "code",
   "execution_count": null,
   "id": "cc2dce48-05c6-44e5-bf05-ff9464b2e5a7",
   "metadata": {},
   "outputs": [],
   "source": [
    "data.drop(data[data.ConstructionYear > 2033].index,inplace=True)\n",
    "data.drop(data[data.TypeOfSale == \"annuity_monthly_amount\"].index,inplace=True)\n",
    "data.drop(data[data.TypeOfSale == \"annuity_without_lump_sum\"].index,inplace=True)\n",
    "data.drop(data[data.TypeOfSale == \"annuity_lump_sum\"].index,inplace=True)\n",
    "data.drop(data[data.TypeOfSale == \"homes_to_build\"].index,inplace=True)\n",
    "data.drop(data[data.PostalCode < 1000].index,inplace=True)"
   ]
  },
  {
   "cell_type": "code",
   "execution_count": null,
   "id": "fcdc8c7c-3438-4ee3-a3df-4d448ea52943",
   "metadata": {},
   "outputs": [],
   "source": [
    "data.info()"
   ]
  },
  {
   "cell_type": "code",
   "execution_count": null,
   "id": "ffabc8dd-e30e-490a-8a65-3dfa741d4a85",
   "metadata": {},
   "outputs": [],
   "source": [
    "data.groupby('TypeOfSale')[['TypeOfSale','MonthlyCharges']].agg('count')"
   ]
  },
  {
   "cell_type": "code",
   "execution_count": null,
   "id": "13349084-9f99-41d9-813b-714f98704012",
   "metadata": {},
   "outputs": [],
   "source": [
    "# data[data.TypeOfSale=='homes_to_build']"
   ]
  },
  {
   "cell_type": "code",
   "execution_count": null,
   "id": "e49ca42e-070b-42e8-ba9d-6d980b58817f",
   "metadata": {},
   "outputs": [],
   "source": [
    "sale_data = data[data.TypeOfSale == \"residential_sale\"]"
   ]
  },
  {
   "cell_type": "code",
   "execution_count": null,
   "id": "1bdb9426-3ac8-4849-8a9b-b5ff9894fcec",
   "metadata": {},
   "outputs": [],
   "source": [
    "sale_data.update(sale_data[[\"BathroomCount\",\"Fireplace\",\"Furnished\",\"Garden\",\"GardenArea\",\"SwimmingPool\",\"Terrace\",\"ToiletCount\"]].fillna(0))"
   ]
  },
  {
   "cell_type": "code",
   "execution_count": null,
   "id": "91e7f207-72ac-4bc5-bfc0-4a7469f61dd3",
   "metadata": {},
   "outputs": [],
   "source": []
  },
  {
   "cell_type": "code",
   "execution_count": null,
   "id": "cac6442c-ee9b-46f1-bbd0-907bf2a36155",
   "metadata": {},
   "outputs": [],
   "source": []
  },
  {
   "cell_type": "code",
   "execution_count": null,
   "id": "2b4c93ca-75a5-4c2a-8c02-25e2755b7f88",
   "metadata": {},
   "outputs": [],
   "source": []
  },
  {
   "cell_type": "code",
   "execution_count": null,
   "id": "be8908db-4c20-4e60-b2b7-8f947fc2efe3",
   "metadata": {},
   "outputs": [],
   "source": []
  },
  {
   "cell_type": "code",
   "execution_count": null,
   "id": "c41f01a0-b183-4998-a7db-b34f12fda7a8",
   "metadata": {},
   "outputs": [],
   "source": []
  }
 ],
 "metadata": {
  "kernelspec": {
   "display_name": "Python (ml_env)",
   "language": "python",
   "name": "ml_env"
  },
  "language_info": {
   "codemirror_mode": {
    "name": "ipython",
    "version": 3
   },
   "file_extension": ".py",
   "mimetype": "text/x-python",
   "name": "python",
   "nbconvert_exporter": "python",
   "pygments_lexer": "ipython3",
   "version": "3.10.14"
  }
 },
 "nbformat": 4,
 "nbformat_minor": 5
}
